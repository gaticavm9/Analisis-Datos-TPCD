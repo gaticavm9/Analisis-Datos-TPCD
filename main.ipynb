{
 "cells": [
  {
   "cell_type": "markdown",
   "id": "8980a7a1-4d42-419b-8328-9c8f2ab8510a",
   "metadata": {},
   "source": [
    "# Proceso de preparación de los datos\n",
    "En este notebook se realizará el proceso completo de desarrollo de un análisis de regresión sobre un conjunto de datos seleccionado."
   ]
  },
  {
   "cell_type": "markdown",
   "id": "f10c50fe-7cfc-4541-b926-3354cc4094c1",
   "metadata": {},
   "source": [
    "## Importar bibliotecas y Preparar los Datos de Análisis"
   ]
  },
  {
   "cell_type": "markdown",
   "id": "9192c9da-4076-4b0a-b943-5dd36ffef7d2",
   "metadata": {},
   "source": [
    "En primer lugar debemos Instalar e importar Bibliotecas necesarias:"
   ]
  },
  {
   "cell_type": "code",
   "execution_count": 8,
   "id": "c53d7289-df6c-46cd-83e3-a743c3f04a5b",
   "metadata": {},
   "outputs": [],
   "source": [
    "# Instalar bibliotecas\n",
    "#!pip install numpy\n",
    "#!pip install pandas\n",
    "#!pip install matplotlib\n",
    "#!pip install seaborn\n",
    "#!pip install sklearn\n",
    "#!pip install ipywidgets"
   ]
  },
  {
   "cell_type": "code",
   "execution_count": 9,
   "id": "58338f2a-43fc-491e-9c7e-7cc33dbf9e68",
   "metadata": {},
   "outputs": [],
   "source": [
    "#Importar bibliotecas\n",
    "import pandas as pd\n",
    "import numpy as np\n",
    "import matplotlib.pyplot as plt\n",
    "import seaborn as sns\n",
    "from ipywidgets import interact\n",
    "%matplotlib inline "
   ]
  },
  {
   "cell_type": "markdown",
   "id": "327f9550-80f7-4262-b3e3-0df5e80b8236",
   "metadata": {},
   "source": [
    "Luego se debe cargar los datos y guardarlos en el dataframe `df`."
   ]
  },
  {
   "cell_type": "code",
   "execution_count": 11,
   "id": "16964182-c6a7-4d8c-bf15-253616b22972",
   "metadata": {},
   "outputs": [],
   "source": [
    "path='datos/Datos_Procesados.csv' # ruta de datos\n",
    "df = pd.read_csv(path)"
   ]
  },
  {
   "cell_type": "markdown",
   "id": "d50f6a9b-7716-4ed0-853b-ff2dc2b5993a",
   "metadata": {},
   "source": [
    "#### Elegir el método de visualización adecuado\n",
    "\n",
    "Revisamos el tipo de dato de nuestras variables dentro del conjunto de datos para ver con qué tipo de variable se está tratando. Esto nos ayudará a encontrar el método de visualización adecuado para cada variable."
   ]
  },
  {
   "cell_type": "code",
   "execution_count": 24,
   "id": "0ac73229-402e-4507-8d40-66ed10f53c7f",
   "metadata": {},
   "outputs": [
    {
     "name": "stdout",
     "output_type": "stream",
     "text": [
      "Unnamed: 0              int64\n",
      "id                      int64\n",
      "timestamp              object\n",
      "pmv                   float64\n",
      "ppd                   float64\n",
      "co2                   float64\n",
      "pm25                  float64\n",
      "pm10                  float64\n",
      "temp                  float64\n",
      "hr                    float64\n",
      "voc                   float64\n",
      "co                    float64\n",
      "no2                   float64\n",
      "c2h5ch                float64\n",
      "idnodo                 object\n",
      "temp(K)               float64\n",
      "pm25-clasificacion     object\n",
      "disconformidad-19%      int64\n",
      "disconformidad-20%      int64\n",
      "20.8                    int64\n",
      "disconformidad-21%      int64\n",
      "disconformidad-22%      int64\n",
      "dtype: object\n"
     ]
    }
   ],
   "source": [
    "print(df.dtypes)"
   ]
  },
  {
   "cell_type": "code",
   "execution_count": null,
   "id": "8937cd75-cf25-4b07-8d6a-5d68f9103305",
   "metadata": {},
   "outputs": [],
   "source": []
  },
  {
   "cell_type": "code",
   "execution_count": null,
   "id": "defa5094-a6fa-4369-a467-a9f804a089a5",
   "metadata": {},
   "outputs": [],
   "source": []
  }
 ],
 "metadata": {
  "kernelspec": {
   "display_name": "Python 3 (ipykernel)",
   "language": "python",
   "name": "python3"
  },
  "language_info": {
   "codemirror_mode": {
    "name": "ipython",
    "version": 3
   },
   "file_extension": ".py",
   "mimetype": "text/x-python",
   "name": "python",
   "nbconvert_exporter": "python",
   "pygments_lexer": "ipython3",
   "version": "3.9.7"
  }
 },
 "nbformat": 4,
 "nbformat_minor": 5
}
