{
 "cells": [
  {
   "cell_type": "markdown",
   "id": "8980a7a1-4d42-419b-8328-9c8f2ab8510a",
   "metadata": {},
   "source": [
    "# Proceso de preparación de los datos\n",
    "En este notebook se realizará el proceso completo de desarrollo de un análisis de regresión sobre un conjunto de datos seleccionado."
   ]
  },
  {
   "cell_type": "markdown",
   "id": "f10c50fe-7cfc-4541-b926-3354cc4094c1",
   "metadata": {},
   "source": [
    "### Importar bibliotecas y Preparar los Datos de Análisis"
   ]
  },
  {
   "cell_type": "markdown",
   "id": "9192c9da-4076-4b0a-b943-5dd36ffef7d2",
   "metadata": {},
   "source": [
    "En primer lugar debemos Instalar e importar Bibliotecas necesarias:"
   ]
  },
  {
   "cell_type": "code",
   "execution_count": 235,
   "id": "c53d7289-df6c-46cd-83e3-a743c3f04a5b",
   "metadata": {},
   "outputs": [],
   "source": [
    "# Instalar bibliotecas\n",
    "#!pip install numpy\n",
    "#!pip install pandas\n",
    "#!pip install matplotlib\n",
    "#!pip install seaborn\n",
    "#!pip install sklearn\n",
    "#!pip install ipywidgets"
   ]
  },
  {
   "cell_type": "code",
   "execution_count": 236,
   "id": "58338f2a-43fc-491e-9c7e-7cc33dbf9e68",
   "metadata": {},
   "outputs": [],
   "source": [
    "#Importar bibliotecas\n",
    "import pandas as pd\n",
    "import numpy as np\n",
    "import matplotlib.pyplot as plt\n",
    "import seaborn as sns\n",
    "from ipywidgets import interact\n",
    "%matplotlib inline "
   ]
  },
  {
   "cell_type": "markdown",
   "id": "327f9550-80f7-4262-b3e3-0df5e80b8236",
   "metadata": {},
   "source": [
    "Luego se debe cargar los datos y guardarlos en el dataframe `df`."
   ]
  },
  {
   "cell_type": "code",
   "execution_count": 237,
   "id": "16964182-c6a7-4d8c-bf15-253616b22972",
   "metadata": {},
   "outputs": [],
   "source": [
    "path='datos/Datos_Procesados.csv' # ruta de datos\n",
    "df = pd.read_csv(path)"
   ]
  },
  {
   "cell_type": "markdown",
   "id": "d50f6a9b-7716-4ed0-853b-ff2dc2b5993a",
   "metadata": {},
   "source": [
    "### Información inicial sobre el conjunto de datos\n",
    "\n",
    "\n",
    "Se va a trabajar con un conjunto de datos capturado por un Nodo de sensores ubicado en el 5to Piso - Sector Neonatología del Hospital Regional Guillermo Grant Benavente de la ciudad de Concepción, Chile, **`Datos_Procesados.csv`**. Este conjunto de datos contiene valores referentes al confort termico y la calidad del aire en el sector mencionado del hospital.\n",
    "\n",
    "*   **id**         -  ID del dato en la BD\n",
    "*   **timestamp**  - Fecha y hora del dato capturado\n",
    "*   **ppd**        - Porcentaje de Personas Insatisfechas\n",
    "*   **pmv**        - Voto Medio Previsto, estima la sensación térmica\n",
    "*   **hr**         - Humedad Relativa\n",
    "*   **temp**       - Temperatura\n",
    "*   **co**         - Monoxido de Carbono\n",
    "*   **co2**        - Dioxido de Carbono\n",
    "*   **no2**        - Dioxido de Nitrogeno\n",
    "*   **c2h5ch**     - Etanol C2H5OH\n",
    "*   **voc**        - Compuestos Orgánicos Volatiles\n",
    "*   **pm10**       - Dioxido de Carbono\n",
    "*   **pm25**       - Material Particulado Grueso\n",
    "*   **idnodo**     - ID del nodo capturador de datos\n",
    "\n",
    "\n",
    "Revisamos el tipo de dato de nuestras variables dentro del conjunto de datos para ver con qué tipo de variable se está tratando. Esto nos ayudará a encontrar el método de visualización adecuado para cada variable."
   ]
  },
  {
   "cell_type": "code",
   "execution_count": 238,
   "id": "0ac73229-402e-4507-8d40-66ed10f53c7f",
   "metadata": {},
   "outputs": [
    {
     "name": "stdout",
     "output_type": "stream",
     "text": [
      "<class 'pandas.core.frame.DataFrame'>\n",
      "RangeIndex: 1440 entries, 0 to 1439\n",
      "Data columns (total 27 columns):\n",
      " #   Column              Non-Null Count  Dtype  \n",
      "---  ------              --------------  -----  \n",
      " 0   Unnamed: 0          1440 non-null   int64  \n",
      " 1   id                  1440 non-null   int64  \n",
      " 2   timestamp           1440 non-null   object \n",
      " 3   pmv                 1440 non-null   float64\n",
      " 4   ppd                 1440 non-null   float64\n",
      " 5   co2                 1440 non-null   float64\n",
      " 6   pm25                1440 non-null   float64\n",
      " 7   pm10                1440 non-null   float64\n",
      " 8   temp                1440 non-null   float64\n",
      " 9   hr                  1440 non-null   float64\n",
      " 10  voc                 1440 non-null   float64\n",
      " 11  co                  1440 non-null   float64\n",
      " 12  no2                 1440 non-null   float64\n",
      " 13  c2h5ch              1440 non-null   float64\n",
      " 14  idnodo              1440 non-null   object \n",
      " 15  temp(K)             1440 non-null   float64\n",
      " 16  pm25-clasificacion  1440 non-null   object \n",
      " 17  13.0                1440 non-null   int64  \n",
      " 18  14.0                1440 non-null   int64  \n",
      " 19  15.0                1440 non-null   int64  \n",
      " 20  16.0                1440 non-null   int64  \n",
      " 21  17.0                1440 non-null   int64  \n",
      " 22  18.0                1440 non-null   int64  \n",
      " 23  disconformidad-19%  1440 non-null   int64  \n",
      " 24  disconformidad-20%  1440 non-null   int64  \n",
      " 25  disconformidad-21%  1440 non-null   int64  \n",
      " 26  disconformidad-22%  1440 non-null   int64  \n",
      "dtypes: float64(12), int64(12), object(3)\n",
      "memory usage: 303.9+ KB\n"
     ]
    }
   ],
   "source": [
    "df.info()"
   ]
  },
  {
   "cell_type": "markdown",
   "id": "07593a99-ee92-4e20-a35d-48073191fcc4",
   "metadata": {},
   "source": [
    "Como nuestro conjunto de datos ya pasó por un proceso de `Data Wrangling` vemos que no existen valores nulos. El conjunto de datos tiene 1440 filas. Además los datos han pasado por proceso de normalización."
   ]
  },
  {
   "cell_type": "markdown",
   "id": "baab8b27-74ed-48c1-a343-0a4dfa48bed2",
   "metadata": {},
   "source": [
    "Podemos ver que hay variables de tipo object y otras que no son necesarias para este análisis. Conservamos solo las variables que serán necesarias para intentar predecir el valor de `ppd` a partir de otras variables."
   ]
  },
  {
   "cell_type": "code",
   "execution_count": 239,
   "id": "bf39bdc7-dc9a-4897-ab4a-262cdf4a30fc",
   "metadata": {},
   "outputs": [
    {
     "name": "stdout",
     "output_type": "stream",
     "text": [
      "<class 'pandas.core.frame.DataFrame'>\n",
      "RangeIndex: 1440 entries, 0 to 1439\n",
      "Data columns (total 11 columns):\n",
      " #   Column  Non-Null Count  Dtype  \n",
      "---  ------  --------------  -----  \n",
      " 0   ppd     1440 non-null   float64\n",
      " 1   pmv     1440 non-null   float64\n",
      " 2   hr      1440 non-null   float64\n",
      " 3   temp    1440 non-null   float64\n",
      " 4   co2     1440 non-null   float64\n",
      " 5   co      1440 non-null   float64\n",
      " 6   no2     1440 non-null   float64\n",
      " 7   c2h5ch  1440 non-null   float64\n",
      " 8   voc     1440 non-null   float64\n",
      " 9   pm10    1440 non-null   float64\n",
      " 10  pm25    1440 non-null   float64\n",
      "dtypes: float64(11)\n",
      "memory usage: 123.9 KB\n"
     ]
    }
   ],
   "source": [
    "df = df[['ppd','pmv','hr','temp','co2','co','no2','c2h5ch','voc','pm10','pm25']]\n",
    "df.info()"
   ]
  },
  {
   "cell_type": "markdown",
   "id": "df11da87-da03-43cb-b085-579e1af83ad8",
   "metadata": {},
   "source": [
    "Le cambiamos el nombre a algunas columnas para mejor compresión."
   ]
  },
  {
   "cell_type": "code",
   "execution_count": 240,
   "id": "099ef5ce-d456-4452-8c74-8f35f32e5f40",
   "metadata": {},
   "outputs": [],
   "source": [
    "df.rename(columns = {\"c2h5ch\": \"etanol\"}, inplace = True)"
   ]
  },
  {
   "cell_type": "markdown",
   "id": "e30de05e-879f-496b-a9f7-21e9dd50e154",
   "metadata": {},
   "source": [
    "### Análisis exploratorio de datos"
   ]
  },
  {
   "cell_type": "code",
   "execution_count": 241,
   "id": "ce32a487-5320-4500-87d7-acdc57416128",
   "metadata": {},
   "outputs": [
    {
     "data": {
      "image/png": "[encoded data removed]",
      "text/plain": [
       "<Figure size 1800x288 with 5 Axes>"
      ]
     },
     "metadata": {
      "needs_background": "light"
     },
     "output_type": "display_data"
    }
   ],
   "source": [
    "fig, axes = plt.subplots(1, 5, figsize=(25, 4))\n",
    "\n",
    "sns.histplot(ax = axes[0], x = df[\"ppd\"],\n",
    "             bins = 10,\n",
    "             kde = True,\n",
    "             color = \"g\").set(title = \"Distribution of 'Porcentaje de Personas Insatisfechas'\");\n",
    "\n",
    "sns.histplot(ax = axes[1], x = df[\"pmv\"],\n",
    "             bins = 10,\n",
    "             kde = True,\n",
    "             color = \"r\").set(title = \"Distribution of 'Voto Medio Previsto'\");\n",
    "\n",
    "sns.histplot(ax = axes[2], x = df[\"temp\"],\n",
    "             bins = 10,\n",
    "             kde = True,\n",
    "             color = \"b\").set(title = \"Distribution of 'Humedad Relativa'\");\n",
    "\n",
    "sns.histplot(ax = axes[3], x = df[\"co\"],\n",
    "             bins = 10,\n",
    "             kde = True,\n",
    "             color = \"y\").set(title = \"Distribution of 'Humedad Relativa'\");\n",
    "\n",
    "sns.histplot(ax = axes[4], x = df[\"hr\"],\n",
    "             bins = 10,\n",
    "             kde = True,\n",
    "             color = \"c\").set(title = \"Distribution of 'Humedad Relativa'\");"
   ]
  },
  {
   "cell_type": "markdown",
   "id": "58f252a8-5ecc-4382-a75d-f3491cafceac",
   "metadata": {},
   "source": [
    "Podemos ver que hay correlación entre algunas variables."
   ]
  },
  {
   "cell_type": "markdown",
   "id": "a454c216-d04e-4009-8675-625f01004fc7",
   "metadata": {},
   "source": [
    "#### Correlación\n",
    "- La correlación indica la fuerza y la dirección de una relación lineal y proporcionalidad entre dos variables estadísticas.\n",
    "\n",
    "Utilizaremos la función `sns.heatmap()` para ver de manera sencilla la correlación que existe entre nuestras variables."
   ]
  },
  {
   "cell_type": "code",
   "execution_count": 242,
   "id": "e7f270f5-bfea-4d1b-97f8-87228f9388cf",
   "metadata": {},
   "outputs": [
    {
     "data": {
      "image/png": "[encoded data removed]",
      "text/plain": [
       "<Figure size 1080x432 with 2 Axes>"
      ]
     },
     "metadata": {},
     "output_type": "display_data"
    }
   ],
   "source": [
    "plt.figure(figsize = [15, 6], facecolor = 'yellow')\n",
    "sns.heatmap(df.corr(), annot=True);"
   ]
  },
  {
   "cell_type": "markdown",
   "id": "d1ffbadf-fd72-40cd-9b32-f8fb7dae113d",
   "metadata": {},
   "source": [
    "Podemos ver que las variables `pmv` y `co` poseen correlación alta con la variable `ppd`. Con ayuda de la función `regplot()` podemos ver la gráfica que nos muestra la relación lineal entre estas variables."
   ]
  },
  {
   "cell_type": "code",
   "execution_count": 243,
   "id": "00b998fc-095f-453d-a9c3-3a97787c0afc",
   "metadata": {},
   "outputs": [
    {
     "data": {
      "image/png": "[encoded data removed]",
      "text/plain": [
       "<Figure size 1296x288 with 3 Axes>"
      ]
     },
     "metadata": {
      "needs_background": "light"
     },
     "output_type": "display_data"
    }
   ],
   "source": [
    "fig, axes = plt.subplots(1, 3, figsize=(18, 4))\n",
    "\n",
    "sns.regplot(ax = axes[0], x=\"pmv\", y=\"ppd\", data=df);\n",
    "sns.regplot(ax = axes[1], x=\"temp\", y=\"ppd\", data=df);\n",
    "sns.regplot(ax = axes[2], x=\"co\", y=\"ppd\", data=df);\n",
    "axes[0].title.set_text(\"Diagrama de dispersión entre 'pmv' y 'ppd'\")\n",
    "axes[1].title.set_text(\"Diagrama de dispersión entre 'temp' y 'ppd'\")\n",
    "axes[2].title.set_text(\"Diagrama de dispersión entre 'co' y 'ppd'\")"
   ]
  },
  {
   "cell_type": "markdown",
   "id": "8b4a82f8-8273-4b0e-9fda-b14e82c297a9",
   "metadata": {},
   "source": [
    "#### Valor P\n",
    "- El valor P es el valor de probabilidad de que la correlación entre dos variables sea estadísticamente significativa.\n",
    "\n",
    "Entonces a continuación evaluaremos que tan significativa es la relación entre las variables escogidas con ayuda de la función `stats.pearsonr`.\n",
    "\n",
    "**pmv vs ppd**"
   ]
  },
  {
   "cell_type": "code",
   "execution_count": 244,
   "id": "a1a6de49-d31c-45db-a500-924b7410b20f",
   "metadata": {},
   "outputs": [
    {
     "name": "stdout",
     "output_type": "stream",
     "text": [
      "El coeficiente de la Correlación de Pearson es 0.988  con un valor de P = 0.0\n"
     ]
    }
   ],
   "source": [
    "from scipy import stats\n",
    "coeficiente_pearson, valor_p = stats.pearsonr(df['ppd'], df['pmv'])\n",
    "print(\"El coeficiente de la Correlación de Pearson es\", round(coeficiente_pearson,3), \" con un valor de P =\", valor_p)"
   ]
  },
  {
   "cell_type": "markdown",
   "id": "5a7e93b5-a1be-430c-941f-be6035087df5",
   "metadata": {},
   "source": [
    "Dado que el valor P es $<$ 0.001, la correlación entre el `Voto Medio Previsto (pmv)` y el `Porcentaje de Personas Insatisfechas (ppd)` es estadísticamente significativa."
   ]
  },
  {
   "cell_type": "markdown",
   "id": "9f13aece-b75e-40bb-bcd1-fbdf6a3a2a45",
   "metadata": {},
   "source": [
    "**temp vs ppd**"
   ]
  },
  {
   "cell_type": "code",
   "execution_count": 245,
   "id": "8434e95d-a98b-460b-86a2-d40eaf564a5c",
   "metadata": {},
   "outputs": [
    {
     "name": "stdout",
     "output_type": "stream",
     "text": [
      "El coeficiente de la Correlación de Pearson es 0.908  con un valor de P = 0.0\n"
     ]
    }
   ],
   "source": [
    "from scipy import stats\n",
    "coeficiente_pearson, valor_p = stats.pearsonr(df['ppd'], df['temp'])\n",
    "print(\"El coeficiente de la Correlación de Pearson es\", round(coeficiente_pearson,3), \" con un valor de P =\", valor_p)"
   ]
  },
  {
   "cell_type": "markdown",
   "id": "f12f7139-a80d-4c00-aaa7-77071c6e82c2",
   "metadata": {},
   "source": [
    "Dado que el valor P es $<$ 0.001, la correlación entre la `Temperatura (temp)` y el `Porcentaje de Personas Insatisfechas (ppd)` es estadísticamente significativa."
   ]
  },
  {
   "cell_type": "markdown",
   "id": "3e8abf72-2d86-471f-af15-a6269b5fca9f",
   "metadata": {},
   "source": [
    "**co vs ppd**"
   ]
  },
  {
   "cell_type": "code",
   "execution_count": 246,
   "id": "0e032eb7-caff-4675-8918-14e891d82f82",
   "metadata": {},
   "outputs": [
    {
     "name": "stdout",
     "output_type": "stream",
     "text": [
      "El coeficiente de la Correlación de Pearson es 0.754  con un valor de P = 1.1717160227211844e-264\n"
     ]
    }
   ],
   "source": [
    "from scipy import stats\n",
    "coeficiente_pearson, valor_p = stats.pearsonr(df['ppd'], df['co'])\n",
    "print(\"El coeficiente de la Correlación de Pearson es\", round(coeficiente_pearson,3), \" con un valor de P =\", valor_p)"
   ]
  },
  {
   "cell_type": "markdown",
   "id": "e175a433-28a4-4287-9f1c-1135f718ebba",
   "metadata": {},
   "source": [
    "Dado que el valor P es $<$ 0.001, la correlación entre el `Monoxido de Carbono (co)` y el `Porcentaje de Personas Insatisfechas (ppd)` es estadísticamente significativa."
   ]
  },
  {
   "cell_type": "markdown",
   "id": "7067e449-c43c-47cd-8c7c-b65dd6e8125a",
   "metadata": {},
   "source": [
    "### Variables importantes\n",
    "En este punto tenemos una mejor idea de cómo se ven los datos y qué variables debemos tener en cuenta al predecir el Porcentaje de Personas Insatisfechas (ppd).\n",
    "\n",
    "Variables numéricas continuas:\n",
    "- pmv (Voto Medio Previsto)\n",
    "- temp (Temperatura)\n",
    "- co (Monoxido de Carbono)"
   ]
  },
  {
   "cell_type": "markdown",
   "id": "9872c7c0-96c4-4935-a590-769017c66e62",
   "metadata": {},
   "source": [
    "### Crear los conjuntos de datos de prueba y entrenamiento\n",
    "\n",
    "Necesitamos dividir el conjunto de datos en un conjunto de entrenamiento y un conjunto de pruebas. De esta forma procedemos a entrenar un modelo con el conjunto de entrenamiento y probar la predicción de este modelo con el conjunto de prueba.\n",
    "Esto nos proporcionará una evaluación más precisa porque el conjunto de datos de prueba no es parte del conjunto de datos que se utilizó para entrenar los datos. Es más realista para los problemas del mundo real.\n",
    "\n",
    "\n",
    "Así se procederá a dividir el conjunto de datos en conjuntos de entrenamiento y prueba, el 80% del total de los datos para entrenamiento y el 20% para pruebas. Se creará una máscara para seleccionar filas aleatorias usando la función **np.random.rand()**:"
   ]
  },
  {
   "cell_type": "code",
   "execution_count": 247,
   "id": "42189c28-8dd0-4692-bc64-c544e440c382",
   "metadata": {},
   "outputs": [],
   "source": [
    "mascara = np.random.rand(len(df)) < 0.8\n",
    "entrena = df[mascara]\n",
    "prueba = df[~mascara]"
   ]
  },
  {
   "cell_type": "markdown",
   "id": "0d665482-f936-4e0a-8bcb-2bf9a8b1c5cb",
   "metadata": {},
   "source": [
    "## Regresión Lineal Simple\n",
    "- Este tipo de Regresión se utiliza para explicar la relación entre una variable de respuesta continua (dependiente) y dos o más variables predictoras (independientes)\n",
    "\n",
    "Como tenemos 3 variables que podemos utilizar para predecir el valor de ppd, se puede usar una Regresión Lineal Múltiple.\n",
    "\n",
    "Entonces desarrollamos un modelo usando estas variables como variables predictoras."
   ]
  },
  {
   "cell_type": "code",
   "execution_count": 248,
   "id": "92bfeec3-3aea-409a-a75f-3ceddb6ba7bd",
   "metadata": {},
   "outputs": [
    {
     "name": "stdout",
     "output_type": "stream",
     "text": [
      "Coeficientes:  [30.63507098]\n",
      "Intersección:  -5.988435767718595\n"
     ]
    }
   ],
   "source": [
    "#Cargamos el modulo y creamos un objeto del tipo regresión lineal  LinearRegression()\n",
    "#from sklearn import linear_model\n",
    "from sklearn.linear_model import LinearRegression\n",
    "regresion_lineal = LinearRegression()\n",
    "\n",
    "#Entrenar/Ajustar el modelo lineal utilizando las 3 variables mencionadas anteriormente.\n",
    "X = entrena[['pmv']]\n",
    "Y = entrena['ppd']\n",
    "regresion_lineal.fit(X, Y)\n",
    "\n",
    "# Los coeficientes obtenidos\n",
    "print ('Coeficientes: ', regresion_lineal.coef_)\n",
    "print ('Intersección: ',regresion_lineal.intercept_)"
   ]
  },
  {
   "cell_type": "markdown",
   "id": "ec58a213-dba8-4a0d-9464-11dc1367ad1c",
   "metadata": {},
   "source": [
    "#### Gráfico de resultados\n",
    "Cuando se trata de regresión lineal simple, una excelente manera de visualizar el ajuste de nuestro modelo es mediante un gráfico de regresión o uno de residuos.\n",
    "\n",
    "Este gráfico mostrará una combinación de puntos de datos dispersos, así como la línea de regresión lineal ajustada que pasa por los datos."
   ]
  },
  {
   "cell_type": "code",
   "execution_count": 249,
   "id": "8b767db0-0e64-471e-b5e6-05a75f8686f3",
   "metadata": {},
   "outputs": [
    {
     "data": {
      "text/plain": [
       "Text(0, 0.5, 'Porcentaje de Personas Insatisfechas')"
      ]
     },
     "execution_count": 249,
     "metadata": {},
     "output_type": "execute_result"
    },
    {
     "data": {
      "image/png": "[encoded data removed]",
      "text/plain": [
       "<Figure size 432x288 with 1 Axes>"
      ]
     },
     "metadata": {
      "needs_background": "light"
     },
     "output_type": "display_data"
    }
   ],
   "source": [
    "plt.scatter(entrena.pmv, entrena.ppd,  color='blue')\n",
    "plt.plot(X, regresion_lineal.coef_[0]*X + regresion_lineal.intercept_, '-r')\n",
    "plt.title(\"Gráfico de Regresión\")\n",
    "plt.xlabel(\"Voto Medio Previsto\")\n",
    "plt.ylabel(\"Porcentaje de Personas Insatisfechas\")"
   ]
  },
  {
   "cell_type": "markdown",
   "id": "4094630a-4a61-4cd7-87a5-2ea8f733e612",
   "metadata": {},
   "source": [
    "De este gráfico se puede observar que el valor de pmv está positivamente correlacionado con el de ppd, ya que la pendiente de la regresión es positiva. Además podemos ver que los puntos de datos alrededor de la línea de regresión no se encuentran muy dispersos, esto nos da una buena indicación de la variación de los datos."
   ]
  },
  {
   "cell_type": "markdown",
   "id": "130bf445-c72a-428a-b113-5261b691e6fe",
   "metadata": {},
   "source": [
    "#### Evaluación\n",
    "Finalmente comparamos los valores reales y los valores pronosticados para calcular la precisión del modelo de regresión.\n",
    "\n",
    "Se utilizan las siguientes 3 metricas para brindar información sobre las áreas que requieren mejoras:\n",
    "* **Error absoluto medio**: Es la media del valor absoluto de los errores. Esta es la métrica más fácil de entender, ya que es solo un error promedio.\n",
    "* **Error cuadrático medio (MSE)**: el error cuadrático medio (MSE) es la media del error cuadrático. Es más popular que el error absoluto medio porque se centra más en los errores grandes. Esto se debe a que el término al cuadrado aumenta exponencialmente los errores más grandes en comparación con los más pequeños.\n",
    "* **R-cuadrado** es la métrica más popular para calcular la precisión de un modelo. Representa qué tan cerca están los datos de la línea de regresión ajustada. Cuanto mayor sea el R-cuadrado, mejor se ajustará el modelo a los datos. La mejor puntuación posible es 1,0 y puede ser negativa (porque el modelo puede ser arbitrariamente peor).\n"
   ]
  },
  {
   "cell_type": "code",
   "execution_count": 250,
   "id": "7d996190-ec6c-486a-b640-dd5f524876ca",
   "metadata": {},
   "outputs": [
    {
     "name": "stdout",
     "output_type": "stream",
     "text": [
      "Error absoluto medio: 0.24\n",
      "Error cuadrático medio (MSE): 0.10\n",
      "Calificación R²: 0.976\n"
     ]
    }
   ],
   "source": [
    "from sklearn.metrics import mean_absolute_error\n",
    "from sklearn.metrics import mean_squared_error\n",
    "from sklearn.metrics import r2_score\n",
    "\n",
    "prueba_X_RLS = prueba[['pmv']]\n",
    "prueba_Y_RLS = prueba['ppd']\n",
    "prueba_Y_hat_RLS = regresion_lineal.predict(prueba_X_RLS)\n",
    "\n",
    "abs_RLS = mean_absolute_error(prueba_Y_RLS, prueba_Y_hat_RLS)\n",
    "mse_RLS = mean_squared_error(prueba_Y_RLS, prueba_Y_hat_RLS)\n",
    "r2_RLS = r2_score(prueba_Y_RLS, prueba_Y_hat_RLS)\n",
    "\n",
    "print(\"Error absoluto medio: %.2f\" % abs_RLS)\n",
    "print(\"Error cuadrático medio (MSE): %.2f\" % mse_RLS)\n",
    "print(\"Calificación R²: %.3f\" % r2_RLS)"
   ]
  },
  {
   "cell_type": "markdown",
   "id": "afcbcdeb-4449-46d2-8fa9-422dfba906f7",
   "metadata": {},
   "source": [
    "El valor entregado nos indica que el \\~98% de la variación del precio se explica por el modelo lineal simple basado en `pmv`."
   ]
  },
  {
   "cell_type": "markdown",
   "id": "3dc3b9da-4eb0-453c-98af-51699d0c690e",
   "metadata": {},
   "source": [
    "## Regresión Lineal Múltiple\n",
    "- Este tipo de Regresión se utiliza para explicar la relación entre una variable de respuesta continua (dependiente) y dos o más variables predictoras (independientes)\n",
    "\n",
    "Como tenemos 3 variables que podemos utilizar para predecir el valor de ppd, se puede usar una Regresión Lineal Múltiple.\n",
    "\n",
    "Entonces desarrollamos un modelo usando estas variables como variables predictoras."
   ]
  },
  {
   "cell_type": "code",
   "execution_count": 251,
   "id": "6df7e026-b0bf-41c2-ab2a-f96c067c5839",
   "metadata": {},
   "outputs": [
    {
     "name": "stdout",
     "output_type": "stream",
     "text": [
      "Coeficientes:  [30.79586296 -0.04979864 -0.038402  ]\n",
      "Intersección:  -4.741799394509627\n"
     ]
    }
   ],
   "source": [
    "#Cargamos el modulo y creamos un objeto del tipo regresión lineal  LinearRegression()\n",
    "regresion_lineal_m = LinearRegression()\n",
    "\n",
    "#Entrenar/Ajustar el modelo lineal multiple utilizando las 3 variables mencionadas anteriormente.\n",
    "Z = entrena[['pmv','temp', 'co']]\n",
    "Y = entrena['ppd']\n",
    "regresion_lineal_m.fit(Z, Y)\n",
    "\n",
    "\n",
    "# Los coeficientes obtenidos\n",
    "print ('Coeficientes: ', regresion_lineal_m.coef_)\n",
    "print ('Intersección: ',regresion_lineal_m.intercept_)"
   ]
  },
  {
   "cell_type": "markdown",
   "id": "048261fe-bd1c-424c-9d78-3ac529a51c5f",
   "metadata": {},
   "source": [
    "#### Gráfico de resultados\n",
    "En este caso no podemos visualizar el comportamiento del modelo con un gráfico de regresión o de residuos. Una alternativa es ver el ajuste del modelo con un gráfico de distribución utilizando el método `.kdeplot()`, de esta forma podemos observar la distribución de los valores ajustados que resultan del modelo y compararla con la distribución de los valores reales."
   ]
  },
  {
   "cell_type": "code",
   "execution_count": 252,
   "id": "d297705e-2753-404d-aaba-f12a1cf314f1",
   "metadata": {},
   "outputs": [],
   "source": [
    "Y_hat = regresion_lineal_m.predict(Z)"
   ]
  },
  {
   "cell_type": "code",
   "execution_count": 253,
   "id": "16b1c1f1-52ae-44a3-b9fe-73c9fe4940f5",
   "metadata": {},
   "outputs": [
    {
     "data": {
      "image/png": "[encoded data removed]",
      "text/plain": [
       "<Figure size 1080x288 with 1 Axes>"
      ]
     },
     "metadata": {
      "needs_background": "light"
     },
     "output_type": "display_data"
    }
   ],
   "source": [
    "plt.figure(figsize=(15, 4))\n",
    "\n",
    "ax1 = sns.kdeplot(df['ppd'], color=\"r\", label=\"Valor Actual\")\n",
    "sns.kdeplot(Y_hat, color=\"b\", label=\"Valores Ajustados\" , ax=ax1)\n",
    "\n",
    "plt.title('Valores Actuales vs Ajustados para \"ppd\"')\n",
    "plt.xlabel('ppd (%)')\n",
    "plt.ylabel('Proporción de Datos')\n",
    "\n",
    "plt.legend(loc='upper right')\n",
    "\n",
    "plt.show()\n",
    "plt.close()"
   ]
  },
  {
   "cell_type": "markdown",
   "id": "7f4be9c3-5453-4f14-807a-dda5eab78be1",
   "metadata": {},
   "source": [
    "Del gráfico se puede observar que los valores ajustados para estas 3 variables están razonablemente cerca de los valores reales, ya que las dos distribuciones se superponen un poco. Sin embargo, definitivamente hay algo de espacio para mejorar."
   ]
  },
  {
   "cell_type": "markdown",
   "id": "ee481d84-3aa0-4ac4-81a9-3c4d2d5863b5",
   "metadata": {},
   "source": [
    "#### Evaluación\n",
    "Finalmente comparamos los valores reales y los valores pronosticados para calcular la precisión del modelo de regresión.\n",
    "\n",
    "Se utilizaran las 3 metricas señaladas anteriormente para brindar información sobre las áreas que requieren mejoras."
   ]
  },
  {
   "cell_type": "code",
   "execution_count": 254,
   "id": "1e4ae866-f8fb-4bc7-9846-5437dbc260aa",
   "metadata": {},
   "outputs": [
    {
     "name": "stdout",
     "output_type": "stream",
     "text": [
      "Error absoluto medio: 0.24\n",
      "Error cuadrático medio (MSE): 0.10\n",
      "Calificación R²: 0.976\n"
     ]
    }
   ],
   "source": [
    "prueba_Z_RLM = prueba[['pmv','temp', 'co']]\n",
    "prueba_Y_RLM = prueba['ppd']\n",
    "prueba_Y_hat_RLM = regresion_lineal_m.predict(prueba_Z_RLM)\n",
    "\n",
    "abs_RLM = mean_absolute_error(prueba_Y_RLM, prueba_Y_hat_RLM)\n",
    "mse_RLM = mean_squared_error(prueba_Y_RLM, prueba_Y_hat_RLM)\n",
    "r2_RLM = r2_score(prueba_Y_RLM, prueba_Y_hat_RLM)\n",
    "\n",
    "print(\"Error absoluto medio: %.2f\" % abs_RLM)\n",
    "print(\"Error cuadrático medio (MSE): %.2f\" % mse_RLM)\n",
    "print(\"Calificación R²: %.3f\" % r2_RLM)"
   ]
  },
  {
   "cell_type": "markdown",
   "id": "7e05cc6f-70f3-4562-9c60-c877dfb3c97c",
   "metadata": {},
   "source": [
    "El valor entregado de $R^2$ nos indica que el ~98% de la variación del `Porcentaje de Personas Insatisfechas(ppd)` se explica por el modelo lineal multiple basado en las variables `pmv (Voto Medio Previsto)`, `temp (Temperatura)` y `co (Monoxido de Carbono)`."
   ]
  },
  {
   "cell_type": "markdown",
   "id": "3729ac56-e221-44f4-b5bd-a9512ed41559",
   "metadata": {},
   "source": [
    "## Regresión Polinomial\n",
    "- Este tipo de Regresión obtiene relaciones no lineales elevando al cuadrado o estableciendo términos de orden superior de las variables predictoras.\n",
    "\n",
    "Como tenemos 3 variables que podemos utilizar para predecir el valor de ppd, se puede usar una Regresión Polinomial.\n",
    "\n",
    "Entonces desarrollamos un modelo usando estas variables como variables predictoras."
   ]
  },
  {
   "cell_type": "code",
   "execution_count": 266,
   "id": "b72b1c0e-d591-4f8d-95f2-1b6e76e4e7d2",
   "metadata": {},
   "outputs": [
    {
     "name": "stdout",
     "output_type": "stream",
     "text": [
      "Intersección:  1145801798.157122\n",
      "Precisión del modelo: 0.98146\n"
     ]
    }
   ],
   "source": [
    "from sklearn.preprocessing import PolynomialFeatures\n",
    "\n",
    "#\n",
    "X_RP = entrena[['pmv','temp', 'co']]\n",
    "\n",
    "#Def grado polinomio\n",
    "regresion_poly = PolynomialFeatures(degree = 4)\n",
    "#Transformamos a caracteristicas de mayor grado\n",
    "X_RP_train = regresion_poly.fit_transform(X_RP)\n",
    "X_RP_test = regresion_poly.fit_transform(prueba[['pmv','temp', 'co']])\n",
    "\n",
    "#Defimos el algoritmo a utilizar\n",
    "RP = LinearRegression()\n",
    "#Entreno del modelo\n",
    "RP.fit(X_RP_train, entrena['ppd'])\n",
    "\n",
    "#print ('Coeficientes: ', RP.coef_)\n",
    "print ('Intersección: ', RP.intercept_)\n",
    "print('Precisión del modelo: %.5f' % RP.score(X_RP_test, prueba[['ppd']]))"
   ]
  },
  {
   "cell_type": "markdown",
   "id": "d5cc7882-cb61-41ab-ad9d-3dc7e8826c4b",
   "metadata": {},
   "source": [
    "#### Gráfico de resultados\n",
    "En este caso como utilizamos más de una variable tampoco podemos visualizar el comportamiento del modelo con un gráfico de regresión.\n",
    "\n",
    "Primero debemos realizar una predicción usando el método `predict()` con los datos de prueba para ver un resultado del modelo y así poder graficar. Para ello, se va a asignar los valores del resultado a la variable `Y_hat_RP`."
   ]
  },
  {
   "cell_type": "code",
   "execution_count": 268,
   "id": "435c785f-0fd7-4a5a-8feb-4a19a8f20e73",
   "metadata": {},
   "outputs": [
    {
     "data": {
      "text/plain": [
       "297"
      ]
     },
     "execution_count": 268,
     "metadata": {},
     "output_type": "execute_result"
    }
   ],
   "source": [
    "Y_hat_RP = RP.predict(X_RP_test)\n",
    "len(Y_hat_RP)"
   ]
  },
  {
   "cell_type": "markdown",
   "id": "21d56611-6827-4ca0-8e5d-bb5cbdd924be",
   "metadata": {},
   "source": [
    "Entonces podemos ver el ajuste del modelo con un gráfico de distribución utilizando el método `.kdeplot()`, de esta forma podemos observar la distribución de los valores ajustados que resultan del modelo y compararla con la distribución de los valores reales."
   ]
  },
  {
   "cell_type": "code",
   "execution_count": 269,
   "id": "97578a63-e119-4fe2-9ec5-ca17d9c414dc",
   "metadata": {},
   "outputs": [
    {
     "data": {
      "image/png": "[encoded data removed]",
      "text/plain": [
       "<Figure size 1080x288 with 1 Axes>"
      ]
     },
     "metadata": {
      "needs_background": "light"
     },
     "output_type": "display_data"
    }
   ],
   "source": [
    "plt.figure(figsize=(15, 4))\n",
    "\n",
    "ax1 = sns.kdeplot(prueba['ppd'], color=\"r\", label=\"Valor Actual\")\n",
    "sns.kdeplot(Y_hat_RP, color=\"b\", label=\"Valores Ajustados\" , ax=ax1)\n",
    "\n",
    "plt.title('Valores Actuales vs Ajustados para \"ppd\"')\n",
    "plt.xlabel('ppd (%)')\n",
    "plt.ylabel('Proporción de Datos')\n",
    "\n",
    "plt.legend(loc='upper right')\n",
    "\n",
    "plt.show()\n",
    "plt.close()"
   ]
  },
  {
   "cell_type": "markdown",
   "id": "b998176a-3299-40f3-b5eb-26dc0332a4aa",
   "metadata": {},
   "source": [
    "#### Evaluación\n",
    "Finalmente comparamos los valores reales y los valores pronosticados para calcular la precisión del modelo de regresión.\n",
    "\n",
    "Se utilizaran las 3 metricas señaladas anteriormente para brindar información sobre las áreas que requieren mejoras."
   ]
  },
  {
   "cell_type": "code",
   "execution_count": 270,
   "id": "c9651aab-73f1-4b1a-9f0c-b3508b3707e0",
   "metadata": {},
   "outputs": [
    {
     "name": "stdout",
     "output_type": "stream",
     "text": [
      "Error absoluto medio: 0.19\n",
      "Error cuadrático medio (MSE): 0.07\n",
      "Calificación R²: 0.981\n"
     ]
    }
   ],
   "source": [
    "abs_RP = mean_absolute_error(prueba['ppd'], Y_hat_RP)\n",
    "mse_RP = mean_squared_error(prueba['ppd'], Y_hat_RP)\n",
    "r2_RP = r2_score(prueba['ppd'], Y_hat_RP)\n",
    "\n",
    "print(\"Error absoluto medio: %.2f\" % abs_RP)\n",
    "print(\"Error cuadrático medio (MSE): %.2f\" % mse_RP)\n",
    "print(\"Calificación R²: %.3f\" % r2_RP)"
   ]
  },
  {
   "cell_type": "markdown",
   "id": "a918d6e3-dd9e-4cfd-b12e-5070d8ed2a30",
   "metadata": {},
   "source": [
    "El valor entregado de $R^2$ nos indica que el ~98,2% de la variación del `Porcentaje de Personas Insatisfechas(ppd)` se explica por el modelo lineal multiple basado en las variables `pmv (Voto Medio Previsto)`, `temp (Temperatura)` y `co (Monoxido de Carbono)`."
   ]
  },
  {
   "cell_type": "markdown",
   "id": "775091c7-654e-44de-9a19-a8850365c3cf",
   "metadata": {},
   "source": [
    "## Cuál es el mejor modelo?\n",
    "Ordenamos los valores de $R^2$ calculados para cada modelo utilizando los datos de prueba y ver de manera sencilla qué modelo arrojó mejores resultados."
   ]
  },
  {
   "cell_type": "code",
   "execution_count": 271,
   "id": "ef8f63a4-b675-4c56-a542-802ca737ac3b",
   "metadata": {
    "tags": []
   },
   "outputs": [
    {
     "data": {
      "application/vnd.plotly.v1+json": {
       "config": {
        "plotlyServerURL": "https://plot.ly"
       },
       "data": [
        {
         "cells": {
          "align": "left",
          "fill": {
           "color": "lavender"
          },
          "values": [
           [
            "Regresión Polinomial",
            "Regresión Lineal Multiple",
            "Regresión Lineal Simple"
           ],
           [
            0.98146,
            0.97628,
            0.97626
           ]
          ]
         },
         "header": {
          "align": "left",
          "fill": {
           "color": "paleturquoise"
          },
          "values": [
           "Modelo",
           "Calificación"
          ]
         },
         "type": "table"
        }
       ],
       "layout": {
        "autosize": false,
        "height": 300,
        "paper_bgcolor": "LightSteelBlue",
        "template": {
         "data": {
          "bar": [
           {
            "error_x": {
             "color": "#2a3f5f"
            },
            "error_y": {
             "color": "#2a3f5f"
            },
            "marker": {
             "line": {
              "color": "#E5ECF6",
              "width": 0.5
             },
             "pattern": {
              "fillmode": "overlay",
              "size": 10,
              "solidity": 0.2
             }
            },
            "type": "bar"
           }
          ],
          "barpolar": [
           {
            "marker": {
             "line": {
              "color": "#E5ECF6",
              "width": 0.5
             },
             "pattern": {
              "fillmode": "overlay",
              "size": 10,
              "solidity": 0.2
             }
            },
            "type": "barpolar"
           }
          ],
          "carpet": [
           {
            "aaxis": {
             "endlinecolor": "#2a3f5f",
             "gridcolor": "white",
             "linecolor": "white",
             "minorgridcolor": "white",
             "startlinecolor": "#2a3f5f"
            },
            "baxis": {
             "endlinecolor": "#2a3f5f",
             "gridcolor": "white",
             "linecolor": "white",
             "minorgridcolor": "white",
             "startlinecolor": "#2a3f5f"
            },
            "type": "carpet"
           }
          ],
          "choropleth": [
           {
            "colorbar": {
             "outlinewidth": 0,
             "ticks": ""
            },
            "type": "choropleth"
           }
          ],
          "contour": [
           {
            "colorbar": {
             "outlinewidth": 0,
             "ticks": ""
            },
            "colorscale": [
             [
              0,
              "#0d0887"
             ],
             [
              0.1111111111111111,
              "#46039f"
             ],
             [
              0.2222222222222222,
              "#7201a8"
             ],
             [
              0.3333333333333333,
              "#9c179e"
             ],
             [
              0.4444444444444444,
              "#bd3786"
             ],
             [
              0.5555555555555556,
              "#d8576b"
             ],
             [
              0.6666666666666666,
              "#ed7953"
             ],
             [
              0.7777777777777778,
              "#fb9f3a"
             ],
             [
              0.8888888888888888,
              "#fdca26"
             ],
             [
              1,
              "#f0f921"
             ]
            ],
            "type": "contour"
           }
          ],
          "contourcarpet": [
           {
            "colorbar": {
             "outlinewidth": 0,
             "ticks": ""
            },
            "type": "contourcarpet"
           }
          ],
          "heatmap": [
           {
            "colorbar": {
             "outlinewidth": 0,
             "ticks": ""
            },
            "colorscale": [
             [
              0,
              "#0d0887"
             ],
             [
              0.1111111111111111,
              "#46039f"
             ],
             [
              0.2222222222222222,
              "#7201a8"
             ],
             [
              0.3333333333333333,
              "#9c179e"
             ],
             [
              0.4444444444444444,
              "#bd3786"
             ],
             [
              0.5555555555555556,
              "#d8576b"
             ],
             [
              0.6666666666666666,
              "#ed7953"
             ],
             [
              0.7777777777777778,
              "#fb9f3a"
             ],
             [
              0.8888888888888888,
              "#fdca26"
             ],
             [
              1,
              "#f0f921"
             ]
            ],
            "type": "heatmap"
           }
          ],
          "heatmapgl": [
           {
            "colorbar": {
             "outlinewidth": 0,
             "ticks": ""
            },
            "colorscale": [
             [
              0,
              "#0d0887"
             ],
             [
              0.1111111111111111,
              "#46039f"
             ],
             [
              0.2222222222222222,
              "#7201a8"
             ],
             [
              0.3333333333333333,
              "#9c179e"
             ],
             [
              0.4444444444444444,
              "#bd3786"
             ],
             [
              0.5555555555555556,
              "#d8576b"
             ],
             [
              0.6666666666666666,
              "#ed7953"
             ],
             [
              0.7777777777777778,
              "#fb9f3a"
             ],
             [
              0.8888888888888888,
              "#fdca26"
             ],
             [
              1,
              "#f0f921"
             ]
            ],
            "type": "heatmapgl"
           }
          ],
          "histogram": [
           {
            "marker": {
             "pattern": {
              "fillmode": "overlay",
              "size": 10,
              "solidity": 0.2
             }
            },
            "type": "histogram"
           }
          ],
          "histogram2d": [
           {
            "colorbar": {
             "outlinewidth": 0,
             "ticks": ""
            },
            "colorscale": [
             [
              0,
              "#0d0887"
             ],
             [
              0.1111111111111111,
              "#46039f"
             ],
             [
              0.2222222222222222,
              "#7201a8"
             ],
             [
              0.3333333333333333,
              "#9c179e"
             ],
             [
              0.4444444444444444,
              "#bd3786"
             ],
             [
              0.5555555555555556,
              "#d8576b"
             ],
             [
              0.6666666666666666,
              "#ed7953"
             ],
             [
              0.7777777777777778,
              "#fb9f3a"
             ],
             [
              0.8888888888888888,
              "#fdca26"
             ],
             [
              1,
              "#f0f921"
             ]
            ],
            "type": "histogram2d"
           }
          ],
          "histogram2dcontour": [
           {
            "colorbar": {
             "outlinewidth": 0,
             "ticks": ""
            },
            "colorscale": [
             [
              0,
              "#0d0887"
             ],
             [
              0.1111111111111111,
              "#46039f"
             ],
             [
              0.2222222222222222,
              "#7201a8"
             ],
             [
              0.3333333333333333,
              "#9c179e"
             ],
             [
              0.4444444444444444,
              "#bd3786"
             ],
             [
              0.5555555555555556,
              "#d8576b"
             ],
             [
              0.6666666666666666,
              "#ed7953"
             ],
             [
              0.7777777777777778,
              "#fb9f3a"
             ],
             [
              0.8888888888888888,
              "#fdca26"
             ],
             [
              1,
              "#f0f921"
             ]
            ],
            "type": "histogram2dcontour"
           }
          ],
          "mesh3d": [
           {
            "colorbar": {
             "outlinewidth": 0,
             "ticks": ""
            },
            "type": "mesh3d"
           }
          ],
          "parcoords": [
           {
            "line": {
             "colorbar": {
              "outlinewidth": 0,
              "ticks": ""
             }
            },
            "type": "parcoords"
           }
          ],
          "pie": [
           {
            "automargin": true,
            "type": "pie"
           }
          ],
          "scatter": [
           {
            "fillpattern": {
             "fillmode": "overlay",
             "size": 10,
             "solidity": 0.2
            },
            "type": "scatter"
           }
          ],
          "scatter3d": [
           {
            "line": {
             "colorbar": {
              "outlinewidth": 0,
              "ticks": ""
             }
            },
            "marker": {
             "colorbar": {
              "outlinewidth": 0,
              "ticks": ""
             }
            },
            "type": "scatter3d"
           }
          ],
          "scattercarpet": [
           {
            "marker": {
             "colorbar": {
              "outlinewidth": 0,
              "ticks": ""
             }
            },
            "type": "scattercarpet"
           }
          ],
          "scattergeo": [
           {
            "marker": {
             "colorbar": {
              "outlinewidth": 0,
              "ticks": ""
             }
            },
            "type": "scattergeo"
           }
          ],
          "scattergl": [
           {
            "marker": {
             "colorbar": {
              "outlinewidth": 0,
              "ticks": ""
             }
            },
            "type": "scattergl"
           }
          ],
          "scattermapbox": [
           {
            "marker": {
             "colorbar": {
              "outlinewidth": 0,
              "ticks": ""
             }
            },
            "type": "scattermapbox"
           }
          ],
          "scatterpolar": [
           {
            "marker": {
             "colorbar": {
              "outlinewidth": 0,
              "ticks": ""
             }
            },
            "type": "scatterpolar"
           }
          ],
          "scatterpolargl": [
           {
            "marker": {
             "colorbar": {
              "outlinewidth": 0,
              "ticks": ""
             }
            },
            "type": "scatterpolargl"
           }
          ],
          "scatterternary": [
           {
            "marker": {
             "colorbar": {
              "outlinewidth": 0,
              "ticks": ""
             }
            },
            "type": "scatterternary"
           }
          ],
          "surface": [
           {
            "colorbar": {
             "outlinewidth": 0,
             "ticks": ""
            },
            "colorscale": [
             [
              0,
              "#0d0887"
             ],
             [
              0.1111111111111111,
              "#46039f"
             ],
             [
              0.2222222222222222,
              "#7201a8"
             ],
             [
              0.3333333333333333,
              "#9c179e"
             ],
             [
              0.4444444444444444,
              "#bd3786"
             ],
             [
              0.5555555555555556,
              "#d8576b"
             ],
             [
              0.6666666666666666,
              "#ed7953"
             ],
             [
              0.7777777777777778,
              "#fb9f3a"
             ],
             [
              0.8888888888888888,
              "#fdca26"
             ],
             [
              1,
              "#f0f921"
             ]
            ],
            "type": "surface"
           }
          ],
          "table": [
           {
            "cells": {
             "fill": {
              "color": "#EBF0F8"
             },
             "line": {
              "color": "white"
             }
            },
            "header": {
             "fill": {
              "color": "#C8D4E3"
             },
             "line": {
              "color": "white"
             }
            },
            "type": "table"
           }
          ]
         },
         "layout": {
          "annotationdefaults": {
           "arrowcolor": "#2a3f5f",
           "arrowhead": 0,
           "arrowwidth": 1
          },
          "autotypenumbers": "strict",
          "coloraxis": {
           "colorbar": {
            "outlinewidth": 0,
            "ticks": ""
           }
          },
          "colorscale": {
           "diverging": [
            [
             0,
             "#8e0152"
            ],
            [
             0.1,
             "#c51b7d"
            ],
            [
             0.2,
             "#de77ae"
            ],
            [
             0.3,
             "#f1b6da"
            ],
            [
             0.4,
             "#fde0ef"
            ],
            [
             0.5,
             "#f7f7f7"
            ],
            [
             0.6,
             "#e6f5d0"
            ],
            [
             0.7,
             "#b8e186"
            ],
            [
             0.8,
             "#7fbc41"
            ],
            [
             0.9,
             "#4d9221"
            ],
            [
             1,
             "#276419"
            ]
           ],
           "sequential": [
            [
             0,
             "#0d0887"
            ],
            [
             0.1111111111111111,
             "#46039f"
            ],
            [
             0.2222222222222222,
             "#7201a8"
            ],
            [
             0.3333333333333333,
             "#9c179e"
            ],
            [
             0.4444444444444444,
             "#bd3786"
            ],
            [
             0.5555555555555556,
             "#d8576b"
            ],
            [
             0.6666666666666666,
             "#ed7953"
            ],
            [
             0.7777777777777778,
             "#fb9f3a"
            ],
            [
             0.8888888888888888,
             "#fdca26"
            ],
            [
             1,
             "#f0f921"
            ]
           ],
           "sequentialminus": [
            [
             0,
             "#0d0887"
            ],
            [
             0.1111111111111111,
             "#46039f"
            ],
            [
             0.2222222222222222,
             "#7201a8"
            ],
            [
             0.3333333333333333,
             "#9c179e"
            ],
            [
             0.4444444444444444,
             "#bd3786"
            ],
            [
             0.5555555555555556,
             "#d8576b"
            ],
            [
             0.6666666666666666,
             "#ed7953"
            ],
            [
             0.7777777777777778,
             "#fb9f3a"
            ],
            [
             0.8888888888888888,
             "#fdca26"
            ],
            [
             1,
             "#f0f921"
            ]
           ]
          },
          "colorway": [
           "#636efa",
           "#EF553B",
           "#00cc96",
           "#ab63fa",
           "#FFA15A",
           "#19d3f3",
           "#FF6692",
           "#B6E880",
           "#FF97FF",
           "#FECB52"
          ],
          "font": {
           "color": "#2a3f5f"
          },
          "geo": {
           "bgcolor": "white",
           "lakecolor": "white",
           "landcolor": "#E5ECF6",
           "showlakes": true,
           "showland": true,
           "subunitcolor": "white"
          },
          "hoverlabel": {
           "align": "left"
          },
          "hovermode": "closest",
          "mapbox": {
           "style": "light"
          },
          "paper_bgcolor": "white",
          "plot_bgcolor": "#E5ECF6",
          "polar": {
           "angularaxis": {
            "gridcolor": "white",
            "linecolor": "white",
            "ticks": ""
           },
           "bgcolor": "#E5ECF6",
           "radialaxis": {
            "gridcolor": "white",
            "linecolor": "white",
            "ticks": ""
           }
          },
          "scene": {
           "xaxis": {
            "backgroundcolor": "#E5ECF6",
            "gridcolor": "white",
            "gridwidth": 2,
            "linecolor": "white",
            "showbackground": true,
            "ticks": "",
            "zerolinecolor": "white"
           },
           "yaxis": {
            "backgroundcolor": "#E5ECF6",
            "gridcolor": "white",
            "gridwidth": 2,
            "linecolor": "white",
            "showbackground": true,
            "ticks": "",
            "zerolinecolor": "white"
           },
           "zaxis": {
            "backgroundcolor": "#E5ECF6",
            "gridcolor": "white",
            "gridwidth": 2,
            "linecolor": "white",
            "showbackground": true,
            "ticks": "",
            "zerolinecolor": "white"
           }
          },
          "shapedefaults": {
           "line": {
            "color": "#2a3f5f"
           }
          },
          "ternary": {
           "aaxis": {
            "gridcolor": "white",
            "linecolor": "white",
            "ticks": ""
           },
           "baxis": {
            "gridcolor": "white",
            "linecolor": "white",
            "ticks": ""
           },
           "bgcolor": "#E5ECF6",
           "caxis": {
            "gridcolor": "white",
            "linecolor": "white",
            "ticks": ""
           }
          },
          "title": {
           "x": 0.05
          },
          "xaxis": {
           "automargin": true,
           "gridcolor": "white",
           "linecolor": "white",
           "ticks": "",
           "title": {
            "standoff": 15
           },
           "zerolinecolor": "white",
           "zerolinewidth": 2
          },
          "yaxis": {
           "automargin": true,
           "gridcolor": "white",
           "linecolor": "white",
           "ticks": "",
           "title": {
            "standoff": 15
           },
           "zerolinecolor": "white",
           "zerolinewidth": 2
          }
         }
        },
        "title": {
         "text": "Calificación de los Modelos"
        },
        "width": 600
       }
      },
      "image/png": "[encoded data removed]",
      "text/html": [
       "<div>                            <div id=\"5e50b60d-d9c7-4f48-b77b-f634270bf13e\" class=\"plotly-graph-div\" style=\"height:300px; width:600px;\"></div>            <script type=\"text/javascript\">                require([\"plotly\"], function(Plotly) {                    window.PLOTLYENV=window.PLOTLYENV || {};                                    if (document.getElementById(\"5e50b60d-d9c7-4f48-b77b-f634270bf13e\")) {                    Plotly.newPlot(                        \"5e50b60d-d9c7-4f48-b77b-f634270bf13e\",                        [{\"cells\":{\"align\":\"left\",\"fill\":{\"color\":\"lavender\"},\"values\":[[\"Regresi\\u00f3n Polinomial\",\"Regresi\\u00f3n Lineal Multiple\",\"Regresi\\u00f3n Lineal Simple\"],[0.98146,0.97628,0.97626]]},\"header\":{\"align\":\"left\",\"fill\":{\"color\":\"paleturquoise\"},\"values\":[\"Modelo\",\"Calificaci\\u00f3n\"]},\"type\":\"table\"}],                        {\"template\":{\"data\":{\"histogram2dcontour\":[{\"type\":\"histogram2dcontour\",\"colorbar\":{\"outlinewidth\":0,\"ticks\":\"\"},\"colorscale\":[[0.0,\"#0d0887\"],[0.1111111111111111,\"#46039f\"],[0.2222222222222222,\"#7201a8\"],[0.3333333333333333,\"#9c179e\"],[0.4444444444444444,\"#bd3786\"],[0.5555555555555556,\"#d8576b\"],[0.6666666666666666,\"#ed7953\"],[0.7777777777777778,\"#fb9f3a\"],[0.8888888888888888,\"#fdca26\"],[1.0,\"#f0f921\"]]}],\"choropleth\":[{\"type\":\"choropleth\",\"colorbar\":{\"outlinewidth\":0,\"ticks\":\"\"}}],\"histogram2d\":[{\"type\":\"histogram2d\",\"colorbar\":{\"outlinewidth\":0,\"ticks\":\"\"},\"colorscale\":[[0.0,\"#0d0887\"],[0.1111111111111111,\"#46039f\"],[0.2222222222222222,\"#7201a8\"],[0.3333333333333333,\"#9c179e\"],[0.4444444444444444,\"#bd3786\"],[0.5555555555555556,\"#d8576b\"],[0.6666666666666666,\"#ed7953\"],[0.7777777777777778,\"#fb9f3a\"],[0.8888888888888888,\"#fdca26\"],[1.0,\"#f0f921\"]]}],\"heatmap\":[{\"type\":\"heatmap\",\"colorbar\":{\"outlinewidth\":0,\"ticks\":\"\"},\"colorscale\":[[0.0,\"#0d0887\"],[0.1111111111111111,\"#46039f\"],[0.2222222222222222,\"#7201a8\"],[0.3333333333333333,\"#9c179e\"],[0.4444444444444444,\"#bd3786\"],[0.5555555555555556,\"#d8576b\"],[0.6666666666666666,\"#ed7953\"],[0.7777777777777778,\"#fb9f3a\"],[0.8888888888888888,\"#fdca26\"],[1.0,\"#f0f921\"]]}],\"heatmapgl\":[{\"type\":\"heatmapgl\",\"colorbar\":{\"outlinewidth\":0,\"ticks\":\"\"},\"colorscale\":[[0.0,\"#0d0887\"],[0.1111111111111111,\"#46039f\"],[0.2222222222222222,\"#7201a8\"],[0.3333333333333333,\"#9c179e\"],[0.4444444444444444,\"#bd3786\"],[0.5555555555555556,\"#d8576b\"],[0.6666666666666666,\"#ed7953\"],[0.7777777777777778,\"#fb9f3a\"],[0.8888888888888888,\"#fdca26\"],[1.0,\"#f0f921\"]]}],\"contourcarpet\":[{\"type\":\"contourcarpet\",\"colorbar\":{\"outlinewidth\":0,\"ticks\":\"\"}}],\"contour\":[{\"type\":\"contour\",\"colorbar\":{\"outlinewidth\":0,\"ticks\":\"\"},\"colorscale\":[[0.0,\"#0d0887\"],[0.1111111111111111,\"#46039f\"],[0.2222222222222222,\"#7201a8\"],[0.3333333333333333,\"#9c179e\"],[0.4444444444444444,\"#bd3786\"],[0.5555555555555556,\"#d8576b\"],[0.6666666666666666,\"#ed7953\"],[0.7777777777777778,\"#fb9f3a\"],[0.8888888888888888,\"#fdca26\"],[1.0,\"#f0f921\"]]}],\"surface\":[{\"type\":\"surface\",\"colorbar\":{\"outlinewidth\":0,\"ticks\":\"\"},\"colorscale\":[[0.0,\"#0d0887\"],[0.1111111111111111,\"#46039f\"],[0.2222222222222222,\"#7201a8\"],[0.3333333333333333,\"#9c179e\"],[0.4444444444444444,\"#bd3786\"],[0.5555555555555556,\"#d8576b\"],[0.6666666666666666,\"#ed7953\"],[0.7777777777777778,\"#fb9f3a\"],[0.8888888888888888,\"#fdca26\"],[1.0,\"#f0f921\"]]}],\"mesh3d\":[{\"type\":\"mesh3d\",\"colorbar\":{\"outlinewidth\":0,\"ticks\":\"\"}}],\"scatter\":[{\"fillpattern\":{\"fillmode\":\"overlay\",\"size\":10,\"solidity\":0.2},\"type\":\"scatter\"}],\"parcoords\":[{\"type\":\"parcoords\",\"line\":{\"colorbar\":{\"outlinewidth\":0,\"ticks\":\"\"}}}],\"scatterpolargl\":[{\"type\":\"scatterpolargl\",\"marker\":{\"colorbar\":{\"outlinewidth\":0,\"ticks\":\"\"}}}],\"bar\":[{\"error_x\":{\"color\":\"#2a3f5f\"},\"error_y\":{\"color\":\"#2a3f5f\"},\"marker\":{\"line\":{\"color\":\"#E5ECF6\",\"width\":0.5},\"pattern\":{\"fillmode\":\"overlay\",\"size\":10,\"solidity\":0.2}},\"type\":\"bar\"}],\"scattergeo\":[{\"type\":\"scattergeo\",\"marker\":{\"colorbar\":{\"outlinewidth\":0,\"ticks\":\"\"}}}],\"scatterpolar\":[{\"type\":\"scatterpolar\",\"marker\":{\"colorbar\":{\"outlinewidth\":0,\"ticks\":\"\"}}}],\"histogram\":[{\"marker\":{\"pattern\":{\"fillmode\":\"overlay\",\"size\":10,\"solidity\":0.2}},\"type\":\"histogram\"}],\"scattergl\":[{\"type\":\"scattergl\",\"marker\":{\"colorbar\":{\"outlinewidth\":0,\"ticks\":\"\"}}}],\"scatter3d\":[{\"type\":\"scatter3d\",\"line\":{\"colorbar\":{\"outlinewidth\":0,\"ticks\":\"\"}},\"marker\":{\"colorbar\":{\"outlinewidth\":0,\"ticks\":\"\"}}}],\"scattermapbox\":[{\"type\":\"scattermapbox\",\"marker\":{\"colorbar\":{\"outlinewidth\":0,\"ticks\":\"\"}}}],\"scatterternary\":[{\"type\":\"scatterternary\",\"marker\":{\"colorbar\":{\"outlinewidth\":0,\"ticks\":\"\"}}}],\"scattercarpet\":[{\"type\":\"scattercarpet\",\"marker\":{\"colorbar\":{\"outlinewidth\":0,\"ticks\":\"\"}}}],\"carpet\":[{\"aaxis\":{\"endlinecolor\":\"#2a3f5f\",\"gridcolor\":\"white\",\"linecolor\":\"white\",\"minorgridcolor\":\"white\",\"startlinecolor\":\"#2a3f5f\"},\"baxis\":{\"endlinecolor\":\"#2a3f5f\",\"gridcolor\":\"white\",\"linecolor\":\"white\",\"minorgridcolor\":\"white\",\"startlinecolor\":\"#2a3f5f\"},\"type\":\"carpet\"}],\"table\":[{\"cells\":{\"fill\":{\"color\":\"#EBF0F8\"},\"line\":{\"color\":\"white\"}},\"header\":{\"fill\":{\"color\":\"#C8D4E3\"},\"line\":{\"color\":\"white\"}},\"type\":\"table\"}],\"barpolar\":[{\"marker\":{\"line\":{\"color\":\"#E5ECF6\",\"width\":0.5},\"pattern\":{\"fillmode\":\"overlay\",\"size\":10,\"solidity\":0.2}},\"type\":\"barpolar\"}],\"pie\":[{\"automargin\":true,\"type\":\"pie\"}]},\"layout\":{\"autotypenumbers\":\"strict\",\"colorway\":[\"#636efa\",\"#EF553B\",\"#00cc96\",\"#ab63fa\",\"#FFA15A\",\"#19d3f3\",\"#FF6692\",\"#B6E880\",\"#FF97FF\",\"#FECB52\"],\"font\":{\"color\":\"#2a3f5f\"},\"hovermode\":\"closest\",\"hoverlabel\":{\"align\":\"left\"},\"paper_bgcolor\":\"white\",\"plot_bgcolor\":\"#E5ECF6\",\"polar\":{\"bgcolor\":\"#E5ECF6\",\"angularaxis\":{\"gridcolor\":\"white\",\"linecolor\":\"white\",\"ticks\":\"\"},\"radialaxis\":{\"gridcolor\":\"white\",\"linecolor\":\"white\",\"ticks\":\"\"}},\"ternary\":{\"bgcolor\":\"#E5ECF6\",\"aaxis\":{\"gridcolor\":\"white\",\"linecolor\":\"white\",\"ticks\":\"\"},\"baxis\":{\"gridcolor\":\"white\",\"linecolor\":\"white\",\"ticks\":\"\"},\"caxis\":{\"gridcolor\":\"white\",\"linecolor\":\"white\",\"ticks\":\"\"}},\"coloraxis\":{\"colorbar\":{\"outlinewidth\":0,\"ticks\":\"\"}},\"colorscale\":{\"sequential\":[[0.0,\"#0d0887\"],[0.1111111111111111,\"#46039f\"],[0.2222222222222222,\"#7201a8\"],[0.3333333333333333,\"#9c179e\"],[0.4444444444444444,\"#bd3786\"],[0.5555555555555556,\"#d8576b\"],[0.6666666666666666,\"#ed7953\"],[0.7777777777777778,\"#fb9f3a\"],[0.8888888888888888,\"#fdca26\"],[1.0,\"#f0f921\"]],\"sequentialminus\":[[0.0,\"#0d0887\"],[0.1111111111111111,\"#46039f\"],[0.2222222222222222,\"#7201a8\"],[0.3333333333333333,\"#9c179e\"],[0.4444444444444444,\"#bd3786\"],[0.5555555555555556,\"#d8576b\"],[0.6666666666666666,\"#ed7953\"],[0.7777777777777778,\"#fb9f3a\"],[0.8888888888888888,\"#fdca26\"],[1.0,\"#f0f921\"]],\"diverging\":[[0,\"#8e0152\"],[0.1,\"#c51b7d\"],[0.2,\"#de77ae\"],[0.3,\"#f1b6da\"],[0.4,\"#fde0ef\"],[0.5,\"#f7f7f7\"],[0.6,\"#e6f5d0\"],[0.7,\"#b8e186\"],[0.8,\"#7fbc41\"],[0.9,\"#4d9221\"],[1,\"#276419\"]]},\"xaxis\":{\"gridcolor\":\"white\",\"linecolor\":\"white\",\"ticks\":\"\",\"title\":{\"standoff\":15},\"zerolinecolor\":\"white\",\"automargin\":true,\"zerolinewidth\":2},\"yaxis\":{\"gridcolor\":\"white\",\"linecolor\":\"white\",\"ticks\":\"\",\"title\":{\"standoff\":15},\"zerolinecolor\":\"white\",\"automargin\":true,\"zerolinewidth\":2},\"scene\":{\"xaxis\":{\"backgroundcolor\":\"#E5ECF6\",\"gridcolor\":\"white\",\"linecolor\":\"white\",\"showbackground\":true,\"ticks\":\"\",\"zerolinecolor\":\"white\",\"gridwidth\":2},\"yaxis\":{\"backgroundcolor\":\"#E5ECF6\",\"gridcolor\":\"white\",\"linecolor\":\"white\",\"showbackground\":true,\"ticks\":\"\",\"zerolinecolor\":\"white\",\"gridwidth\":2},\"zaxis\":{\"backgroundcolor\":\"#E5ECF6\",\"gridcolor\":\"white\",\"linecolor\":\"white\",\"showbackground\":true,\"ticks\":\"\",\"zerolinecolor\":\"white\",\"gridwidth\":2}},\"shapedefaults\":{\"line\":{\"color\":\"#2a3f5f\"}},\"annotationdefaults\":{\"arrowcolor\":\"#2a3f5f\",\"arrowhead\":0,\"arrowwidth\":1},\"geo\":{\"bgcolor\":\"white\",\"landcolor\":\"#E5ECF6\",\"subunitcolor\":\"white\",\"showland\":true,\"showlakes\":true,\"lakecolor\":\"white\"},\"title\":{\"x\":0.05},\"mapbox\":{\"style\":\"light\"}}},\"title\":{\"text\":\"Calificaci\\u00f3n de los Modelos\"},\"autosize\":false,\"width\":600,\"height\":300,\"paper_bgcolor\":\"LightSteelBlue\"},                        {\"responsive\": true}                    ).then(function(){\n",
       "                            \n",
       "var gd = document.getElementById('5e50b60d-d9c7-4f48-b77b-f634270bf13e');\n",
       "var x = new MutationObserver(function (mutations, observer) {{\n",
       "        var display = window.getComputedStyle(gd).display;\n",
       "        if (!display || display === 'none') {{\n",
       "            console.log([gd, 'removed!']);\n",
       "            Plotly.purge(gd);\n",
       "            observer.disconnect();\n",
       "        }}\n",
       "}});\n",
       "\n",
       "// Listen for the removal of the full notebook cells\n",
       "var notebookContainer = gd.closest('#notebook-container');\n",
       "if (notebookContainer) {{\n",
       "    x.observe(notebookContainer, {childList: true});\n",
       "}}\n",
       "\n",
       "// Listen for the clearing of the current output cell\n",
       "var outputEl = gd.closest('.output');\n",
       "if (outputEl) {{\n",
       "    x.observe(outputEl, {childList: true});\n",
       "}}\n",
       "\n",
       "                        })                };                });            </script>        </div>"
      ]
     },
     "metadata": {},
     "output_type": "display_data"
    }
   ],
   "source": [
    "import plotly.graph_objects as go\n",
    "\n",
    "best_model = pd.DataFrame({\n",
    "    'Modelo': ['Regresión Lineal Simple','Regresión Lineal Multiple','Regresión Polinomial'], \n",
    "    'Calificación': [round(r2_RLS,5),round(r2_RLM,5),round(r2_RP,5)]})\n",
    "best_model.sort_values(by=['Calificación'], ascending=False, inplace=True)\n",
    "best_model.reset_index(inplace=True, drop=True)\n",
    "fig = go.Figure(data=[go.Table(\n",
    "    header=dict(values=list(best_model.columns),\n",
    "                fill_color='paleturquoise',\n",
    "                align='left'),\n",
    "    cells=dict(values=[best_model.Modelo, best_model.Calificación],\n",
    "               fill_color='lavender',\n",
    "               align='left'))\n",
    "])\n",
    "fig.update_layout(\n",
    "    title=\"Calificación de los Modelos\",\n",
    "    autosize=False,\n",
    "    width=600,\n",
    "    height=300,\n",
    "\n",
    "    paper_bgcolor=\"LightSteelBlue\",\n",
    ")\n",
    "fig.show()"
   ]
  },
  {
   "cell_type": "markdown",
   "id": "f0155e25-b2f6-461b-b5cb-b038d5eb26da",
   "metadata": {},
   "source": [
    "## $\\therefore$ Conclusión\n",
    "\n",
    "Comparando estos tres modelos, se concluye que la **Regresión Polinomial** es el mejor modelo para poder predecir los valores de `ppd` a partir de nuestro conjunto de datos. Este resultado tiene sentido, ya que tenemos 14 variables en total y sabemos que más de una de esas variables son predictores potenciales del Porcentaje de Personas Insatisfechas en la zona del Hospital evaluada."
   ]
  },
  {
   "cell_type": "code",
   "execution_count": null,
   "id": "7b812f66-2d1c-4f0a-9511-015a16c8741a",
   "metadata": {},
   "outputs": [],
   "source": []
  },
  {
   "cell_type": "code",
   "execution_count": null,
   "id": "e6a4d309-c1f5-49a2-9d81-6cd0cfecd210",
   "metadata": {},
   "outputs": [],
   "source": []
  }
 ],
 "metadata": {
  "kernelspec": {
   "display_name": "Python 3 (ipykernel)",
   "language": "python",
   "name": "python3"
  },
  "language_info": {
   "codemirror_mode": {
    "name": "ipython",
    "version": 3
   },
   "file_extension": ".py",
   "mimetype": "text/x-python",
   "name": "python",
   "nbconvert_exporter": "python",
   "pygments_lexer": "ipython3",
   "version": "3.9.7"
  },
  "vscode": {
   "interpreter": {
    "hash": "3800cc3e84d75565c35a70d049b50130c40c89fb2290199c0422067e13f562cc"
   }
  }
 },
 "nbformat": 4,
 "nbformat_minor": 5
}
